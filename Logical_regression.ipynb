{
  "nbformat": 4,
  "nbformat_minor": 0,
  "metadata": {
    "colab": {
      "provenance": [],
      "toc_visible": true,
      "authorship_tag": "ABX9TyMBQPe1nouPxTMcWqAUI8D+",
      "include_colab_link": true
    },
    "kernelspec": {
      "name": "python3",
      "display_name": "Python 3"
    },
    "language_info": {
      "name": "python"
    }
  },
  "cells": [
    {
      "cell_type": "markdown",
      "metadata": {
        "id": "view-in-github",
        "colab_type": "text"
      },
      "source": [
        "<a href=\"https://colab.research.google.com/github/lit-haf/Machine_Learning/blob/main/Logical_regression.ipynb\" target=\"_parent\"><img src=\"https://colab.research.google.com/assets/colab-badge.svg\" alt=\"Open In Colab\"/></a>"
      ]
    },
    {
      "cell_type": "markdown",
      "source": [
        "# **Predict Sales with Logical Regression**"
      ],
      "metadata": {
        "id": "BoYeQariSdtI"
      }
    },
    {
      "cell_type": "markdown",
      "source": [
        "importing libraries\n"
      ],
      "metadata": {
        "id": "DxBqgMJhTShi"
      }
    },
    {
      "cell_type": "code",
      "execution_count": 1,
      "metadata": {
        "id": "X1qr3jgoShLk"
      },
      "outputs": [],
      "source": [
        "import pandas as pd\n",
        "import numpy as num"
      ]
    },
    {
      "cell_type": "markdown",
      "source": [
        "Uploading files to google colab"
      ],
      "metadata": {
        "id": "ysopgxUZUgAE"
      }
    },
    {
      "cell_type": "code",
      "source": [
        "from google.colab import files\n",
        "upload=files.upload()"
      ],
      "metadata": {
        "id": "kEuIx73bSc1-"
      },
      "execution_count": null,
      "outputs": []
    },
    {
      "cell_type": "markdown",
      "source": [
        "Load Data"
      ],
      "metadata": {
        "id": "pFvqj8_eVyS8"
      }
    },
    {
      "cell_type": "code",
      "source": [
        "dataset=pd.read_csv('Day_3_ Dataset_DigitalAd_dataset.csv')\n",
        "print(dataset)"
      ],
      "metadata": {
        "id": "9gXnvsq5U5hH"
      },
      "execution_count": null,
      "outputs": []
    },
    {
      "cell_type": "markdown",
      "source": [
        "Summarize Dataset"
      ],
      "metadata": {
        "id": "cFwYYAltWFFJ"
      }
    },
    {
      "cell_type": "code",
      "source": [
        "print(dataset.shape)\n",
        "dataset.head(10)"
      ],
      "metadata": {
        "id": "eQGv6k_1Ww65"
      },
      "execution_count": null,
      "outputs": []
    },
    {
      "cell_type": "markdown",
      "source": [
        "Segregate data into X & Y"
      ],
      "metadata": {
        "id": "UNYjLuqHXQ3U"
      }
    },
    {
      "cell_type": "code",
      "source": [
        "x=dataset.iloc[:,:-1].values\n",
        "x"
      ],
      "metadata": {
        "id": "4u8KpE4KWJ0W"
      },
      "execution_count": null,
      "outputs": []
    },
    {
      "cell_type": "code",
      "source": [
        "y=dataset.iloc[:,-1].values\n",
        "y"
      ],
      "metadata": {
        "id": "Sg-gVOqGXZRR"
      },
      "execution_count": null,
      "outputs": []
    },
    {
      "cell_type": "markdown",
      "source": [
        "Splitting Data  into Train/Test"
      ],
      "metadata": {
        "id": "Io5Df0_eXkGh"
      }
    },
    {
      "cell_type": "code",
      "source": [
        "from sklearn.model_selection import train_test_split\n",
        "x_test,x_train,y_test,y_train= train_test_split(x,y,test_size=0.25,random_state=0)"
      ],
      "metadata": {
        "id": "Wy7mVh1sXsMF"
      },
      "execution_count": 16,
      "outputs": []
    },
    {
      "cell_type": "markdown",
      "source": [
        "Feature Scalling"
      ],
      "metadata": {
        "id": "bDrudDKrY_in"
      }
    },
    {
      "cell_type": "code",
      "source": [
        "from sklearn.preprocessing import StandardScaler\n",
        "sc=StandardScaler()\n",
        "x_train=sc.fit_transform(x_train)\n",
        "x_test=sc.transform(x_test)\n",
        "x_train"
      ],
      "metadata": {
        "id": "P_KalC1WZCT2"
      },
      "execution_count": null,
      "outputs": []
    },
    {
      "cell_type": "markdown",
      "source": [
        "Training"
      ],
      "metadata": {
        "id": "k7LCusxlZtd3"
      }
    },
    {
      "cell_type": "code",
      "source": [
        "from sklearn.linear_model import LogisticRegression\n",
        "model=LogisticRegression()\n",
        "model.fit(x_train,y_train)"
      ],
      "metadata": {
        "colab": {
          "base_uri": "https://localhost:8080/"
        },
        "id": "nEsSkDKmZ7Q9",
        "outputId": "d50e93fd-e97c-4fb3-cf4c-852ef86ef0de"
      },
      "execution_count": 19,
      "outputs": [
        {
          "output_type": "execute_result",
          "data": {
            "text/plain": [
              "LogisticRegression()"
            ]
          },
          "metadata": {},
          "execution_count": 19
        }
      ]
    },
    {
      "cell_type": "markdown",
      "source": [
        "Predicting Wheather Buy or Not"
      ],
      "metadata": {
        "id": "EvZEUI20afOD"
      }
    },
    {
      "cell_type": "code",
      "source": [
        "age=int(input(\"Enter your Age: \"))\n",
        "salary=int(input(\"Entre your Salary: \"))\n",
        "newcust=[[age,salary]]\n",
        "result=model.predict(sc.transform(newcust))\n",
        "print(result)\n",
        "if result==1:\n",
        "  print(\"New Customer will buy\")\n",
        "else:\n",
        "   print(\"New Customer won't buy\")\n"
      ],
      "metadata": {
        "id": "QTU31-TLajx4"
      },
      "execution_count": null,
      "outputs": []
    },
    {
      "cell_type": "markdown",
      "source": [
        "Prediction for data"
      ],
      "metadata": {
        "id": "mMyMyBKOcbmR"
      }
    },
    {
      "cell_type": "code",
      "source": [
        "y_pred=model.predict(x_test)"
      ],
      "metadata": {
        "id": "MSaEFOLccf0j"
      },
      "execution_count": 24,
      "outputs": []
    },
    {
      "cell_type": "markdown",
      "source": [
        "Evaluating the Accuracy"
      ],
      "metadata": {
        "id": "gLySa0bMctNw"
      }
    },
    {
      "cell_type": "code",
      "source": [
        "from sklearn.metrics import accuracy_score\n",
        "print(\"Accuracy of the model: {0}%\".format(accuracy_score(y_test,y_pred)*100))"
      ],
      "metadata": {
        "colab": {
          "base_uri": "https://localhost:8080/"
        },
        "id": "5KVrJjUBcvN4",
        "outputId": "121667db-7ee8-434c-d80e-983ce61040ec"
      },
      "execution_count": 25,
      "outputs": [
        {
          "output_type": "stream",
          "name": "stdout",
          "text": [
            "Accuracy of the model: 84.0%\n"
          ]
        }
      ]
    }
  ]
}